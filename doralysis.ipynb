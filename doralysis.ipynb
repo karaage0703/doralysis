{
 "cells": [
  {
   "cell_type": "markdown",
   "metadata": {},
   "source": [
    "Python及び使用しているライブラリのバージョンの確認"
   ]
  },
  {
   "cell_type": "code",
   "execution_count": 1,
   "metadata": {},
   "outputs": [
    {
     "name": "stdout",
     "output_type": "stream",
     "text": [
      "python 3.6.1\n",
      "matplotlib 2.0.2\n",
      "numpy 1.12.1\n",
      "pandas 0.20.1\n",
      "scikit-learn 0.18.1\n",
      "seaborn 0.7.1\n"
     ]
    }
   ],
   "source": [
    "import platform\n",
    "print(\"python \" + platform.python_version())\n",
    "import pkg_resources\n",
    "pkglist = ['numpy', 'scikit-learn', 'matplotlib', 'seaborn', 'pandas']\n",
    "for dist in pkg_resources.working_set:\n",
    "    if dist.project_name in pkglist:\n",
    "        print(dist.project_name, dist.version)"
   ]
  },
  {
   "cell_type": "markdown",
   "metadata": {},
   "source": [
    "必要なライブラリのインポート"
   ]
  },
  {
   "cell_type": "code",
   "execution_count": 2,
   "metadata": {
    "collapsed": true
   },
   "outputs": [],
   "source": [
    "import pandas as pd\n",
    "import matplotlib.pyplot as plt\n",
    "import numpy as np\n",
    "import seaborn as sns"
   ]
  },
  {
   "cell_type": "code",
   "execution_count": 3,
   "metadata": {},
   "outputs": [
    {
     "data": {
      "text/html": [
       "<div>\n",
       "<style>\n",
       "    .dataframe thead tr:only-child th {\n",
       "        text-align: right;\n",
       "    }\n",
       "\n",
       "    .dataframe thead th {\n",
       "        text-align: left;\n",
       "    }\n",
       "\n",
       "    .dataframe tbody tr th {\n",
       "        vertical-align: top;\n",
       "    }\n",
       "</style>\n",
       "<table border=\"1\" class=\"dataframe\">\n",
       "  <thead>\n",
       "    <tr style=\"text-align: right;\">\n",
       "      <th></th>\n",
       "      <th>巻数</th>\n",
       "      <th>のび太</th>\n",
       "      <th>ドラえもん</th>\n",
       "      <th>行為</th>\n",
       "      <th>使用道具</th>\n",
       "      <th>Unnamed: 5</th>\n",
       "      <th>Unnamed: 6</th>\n",
       "    </tr>\n",
       "  </thead>\n",
       "  <tbody>\n",
       "    <tr>\n",
       "      <th>0</th>\n",
       "      <td>10</td>\n",
       "      <td>1</td>\n",
       "      <td>NaN</td>\n",
       "      <td>盗撮</td>\n",
       "      <td>透視カメラ</td>\n",
       "      <td>NaN</td>\n",
       "      <td>NaN</td>\n",
       "    </tr>\n",
       "    <tr>\n",
       "      <th>1</th>\n",
       "      <td>12</td>\n",
       "      <td>1</td>\n",
       "      <td>NaN</td>\n",
       "      <td>お風呂侵入</td>\n",
       "      <td>ドンブラ粉</td>\n",
       "      <td>NaN</td>\n",
       "      <td>NaN</td>\n",
       "    </tr>\n",
       "    <tr>\n",
       "      <th>2</th>\n",
       "      <td>12</td>\n",
       "      <td>1</td>\n",
       "      <td>1.0</td>\n",
       "      <td>お風呂侵入</td>\n",
       "      <td>つりぼり</td>\n",
       "      <td>NaN</td>\n",
       "      <td>NaN</td>\n",
       "    </tr>\n",
       "    <tr>\n",
       "      <th>3</th>\n",
       "      <td>16</td>\n",
       "      <td>1</td>\n",
       "      <td>NaN</td>\n",
       "      <td>露出行為</td>\n",
       "      <td>しゃべる服</td>\n",
       "      <td>NaN</td>\n",
       "      <td>NaN</td>\n",
       "    </tr>\n",
       "    <tr>\n",
       "      <th>4</th>\n",
       "      <td>18</td>\n",
       "      <td>1</td>\n",
       "      <td>NaN</td>\n",
       "      <td>お風呂覗き見</td>\n",
       "      <td>スパイ衛星</td>\n",
       "      <td>NaN</td>\n",
       "      <td>NaN</td>\n",
       "    </tr>\n",
       "  </tbody>\n",
       "</table>\n",
       "</div>"
      ],
      "text/plain": [
       "   巻数  のび太  ドラえもん      行為   使用道具  Unnamed: 5  Unnamed: 6\n",
       "0  10    1    NaN      盗撮  透視カメラ         NaN         NaN\n",
       "1  12    1    NaN   お風呂侵入  ドンブラ粉         NaN         NaN\n",
       "2  12    1    1.0   お風呂侵入   つりぼり         NaN         NaN\n",
       "3  16    1    NaN    露出行為  しゃべる服         NaN         NaN\n",
       "4  18    1    NaN  お風呂覗き見  スパイ衛星         NaN         NaN"
      ]
     },
     "execution_count": 3,
     "metadata": {},
     "output_type": "execute_result"
    }
   ],
   "source": [
    "data = pd.read_csv(\"doralysis.csv\")\n",
    "data.head()"
   ]
  },
  {
   "cell_type": "markdown",
   "metadata": {},
   "source": [
    "matplotlibのスタイルの適用"
   ]
  },
  {
   "cell_type": "code",
   "execution_count": 4,
   "metadata": {
    "collapsed": true
   },
   "outputs": [],
   "source": [
    "plt.style.use('ggplot')"
   ]
  },
  {
   "cell_type": "markdown",
   "metadata": {
    "collapsed": true
   },
   "source": [
    "日本語対応　フォント一覧を表示"
   ]
  },
  {
   "cell_type": "code",
   "execution_count": 5,
   "metadata": {},
   "outputs": [
    {
     "data": {
      "text/plain": [
       "['/System/Library/Fonts/SFCompactRounded-Medium.otf',\n",
       " '/Library/Fonts/STIXVar.otf',\n",
       " '/Library/Fonts/Tahoma.ttf',\n",
       " '/Library/Fonts/Trebuchet MS Bold Italic.ttf',\n",
       " '/Library/Fonts/STIXSizFourSymReg.otf',\n",
       " '/System/Library/Assets/com_apple_MobileAsset_Font3/456f218aaaff310805fa4003038e593c9db93d8b.asset/AssetData/YuppyTC-Regular.otf',\n",
       " '/System/Library/Fonts/LastResort.ttf',\n",
       " '/Library/Fonts/Arial Bold.ttf',\n",
       " '/System/Library/Fonts/SFNSTextCondensed-Bold.otf',\n",
       " '/Library/Fonts/Arial Narrow.ttf',\n",
       " '/Library/Fonts/Luminari.ttf',\n",
       " '/Library/Fonts/Chalkduster.ttf',\n",
       " '/System/Library/Fonts/SFNSDisplayCondensed-Medium.otf',\n",
       " '/System/Library/Assets/com_apple_MobileAsset_Font3/fdd4d0ac4ef5f1cfff55b2d5fe376ff2032ddea5.asset/AssetData/儷宋 Pro.ttf',\n",
       " '/Library/Fonts/Krungthep.ttf',\n",
       " '/System/Library/Fonts/Apple Braille Pinpoint 6 Dot.ttf',\n",
       " '/System/Library/Fonts/Apple Braille Outline 6 Dot.ttf',\n",
       " '/System/Library/Fonts/SFNSTextCondensed-Heavy.otf',\n",
       " '/System/Library/Fonts/SFNSDisplayCondensed-Ultralight.otf',\n",
       " '/System/Library/Fonts/Keyboard.ttf',\n",
       " '/Library/Fonts/Times New Roman Italic.ttf',\n",
       " '/Library/Fonts/STIXGeneralBolIta.otf',\n",
       " '/Library/Fonts/Georgia Bold Italic.ttf',\n",
       " '/Library/Fonts/Trebuchet MS Bold.ttf',\n",
       " '/System/Library/Fonts/SFCompactRounded-Ultralight.otf',\n",
       " '/System/Library/Assets/com_apple_MobileAsset_Font3/de9fd24a428f17feaddbfdd56849e818adfc9bf1.asset/AssetData/WeibeiSC-Bold.otf',\n",
       " '/System/Library/Fonts/Apple Braille Pinpoint 8 Dot.ttf',\n",
       " '/System/Library/Assets/com_apple_MobileAsset_Font3/79a03b35a9e7ef01b035910aec1255765ee291ae.asset/AssetData/HeadlineA.ttf',\n",
       " '/System/Library/Assets/com_apple_MobileAsset_Font3/20d2e557b080b38599efc6c4e7945218db3f3b3d.asset/AssetData/ToppanBunkyuMincho-Regular.otf',\n",
       " '/Library/Fonts/STIXIntUpSmBol.otf',\n",
       " '/Library/Fonts/InaiMathi.ttf',\n",
       " '/System/Library/Fonts/SFCompactText-Semibold.otf',\n",
       " '/Library/Fonts/Webdings.ttf',\n",
       " '/Library/Fonts/Wingdings.ttf',\n",
       " '/Library/Fonts/STIXNonUniBolIta.otf',\n",
       " '/System/Library/Fonts/Symbol.ttf',\n",
       " '/Library/Fonts/Georgia Bold.ttf',\n",
       " '/Library/Fonts/STIXSizTwoSymBol.otf',\n",
       " '/System/Library/Fonts/SFCompactDisplay-Regular.otf',\n",
       " '/System/Library/Assets/com_apple_MobileAsset_Font3/5f9224efce123e4e7dac795bea191db345074bad.asset/AssetData/Gungseouche.ttf',\n",
       " '/System/Library/Fonts/Apple Braille Outline 8 Dot.ttf',\n",
       " '/Library/Fonts/Bodoni 72 Smallcaps Book.ttf',\n",
       " '/System/Library/Assets/com_apple_MobileAsset_Font3/31446e511030d504d82943f715bb763066d52fdd.asset/AssetData/YuppySC-Regular.otf',\n",
       " '/System/Library/Assets/com_apple_MobileAsset_Font3/8d03295352b27ea57b85aa072ef32c8d0b2bbdab.asset/AssetData/Apple LiSung Light.ttf',\n",
       " '/System/Library/Fonts/SFCompactText-Medium.otf',\n",
       " '/Library/Fonts/DIN Alternate Bold.ttf',\n",
       " '/System/Library/Assets/com_apple_MobileAsset_Font3/849abc59bfd2de1ff8c30180a3e7514becfad1f3.asset/AssetData/BiauKai.ttf',\n",
       " '/System/Library/Fonts/SFCompactRounded-Semibold.otf',\n",
       " '/System/Library/Assets/com_apple_MobileAsset_Font3/9d76ac1524360d5ead71d01a8151b57ed213860f.asset/AssetData/儷黑 Pro.ttf',\n",
       " '/Library/Fonts/STIXSizFiveSymReg.otf',\n",
       " '/Library/Fonts/Courier New.ttf',\n",
       " '/Library/Fonts/Trebuchet MS.ttf',\n",
       " '/Library/Fonts/Trattatello.ttf',\n",
       " '/System/Library/Fonts/SFCompactRounded-Light.otf',\n",
       " '/System/Library/Fonts/SFCompactDisplay-Light.otf',\n",
       " '/System/Library/Fonts/SFNSTextCondensed-Regular.otf',\n",
       " '/System/Library/Fonts/SFNSDisplayCondensed-Heavy.otf',\n",
       " '/System/Library/Assets/com_apple_MobileAsset_Font3/5d41a77da0d9f0d78c6e412292d5eeec2ff4f8b2.asset/AssetData/Kai.ttf',\n",
       " '/System/Library/Assets/com_apple_MobileAsset_Font3/aff3c8ec47a0868e3cda1072abc49380aeebe50c.asset/AssetData/OsakaMono.ttf',\n",
       " '/Library/Fonts/Silom.ttf',\n",
       " '/System/Library/Assets/com_apple_MobileAsset_Font3/9a978920a2ec0751dab43654250100e09371ff60.asset/AssetData/WawaTC-Regular.otf',\n",
       " '/System/Library/Fonts/SFCompactDisplay-Heavy.otf',\n",
       " '/System/Library/Fonts/SFNSDisplayCondensed-Light.otf',\n",
       " '/Library/Fonts/PlantagenetCherokee.ttf',\n",
       " '/Library/Fonts/Verdana Bold Italic.ttf',\n",
       " '/Library/Fonts/Impact.ttf',\n",
       " '/Library/Fonts/Microsoft Sans Serif.ttf',\n",
       " '/Library/Fonts/Arial Italic.ttf',\n",
       " '/System/Library/Fonts/SFCompactRounded-Heavy.otf',\n",
       " '/System/Library/Fonts/SFCompactRounded-Black.otf',\n",
       " '/Library/Fonts/Arial.ttf',\n",
       " '/Library/Fonts/Arial Unicode.ttf',\n",
       " '/System/Library/Fonts/SFCompactText-RegularItalic.otf',\n",
       " '/Library/Fonts/STIXSizThreeSymBol.otf',\n",
       " '/Library/Fonts/Mishafi.ttf',\n",
       " '/Library/Fonts/Arial Narrow Bold.ttf',\n",
       " '/System/Library/Fonts/SFNSDisplayCondensed-Bold.otf',\n",
       " '/System/Library/Fonts/SFNSTextCondensed-Medium.otf',\n",
       " '/Library/Fonts/STIXIntSmBol.otf',\n",
       " '/System/Library/Assets/com_apple_MobileAsset_Font3/45282121ba76bb2e9985123c4ef8327f74d39305.asset/AssetData/LingWaiSC-Medium.otf',\n",
       " '/Library/Fonts/STIXGeneral.otf',\n",
       " '/Library/Fonts/STIXGeneralItalic.otf',\n",
       " '/Library/Fonts/Ayuthaya.ttf',\n",
       " '/System/Library/Fonts/SFCompactText-LightItalic.otf',\n",
       " '/Library/Fonts/STIXIntUpDBol.otf',\n",
       " '/System/Library/Fonts/SFCompactRounded-Bold.otf',\n",
       " '/Library/Fonts/STIXNonUniBol.otf',\n",
       " '/Library/Fonts/NISC18030.ttf',\n",
       " '/Library/Fonts/Gurmukhi.ttf',\n",
       " '/Library/Fonts/STIXIntUpSmReg.otf',\n",
       " '/System/Library/Assets/com_apple_MobileAsset_Font3/6d903871680879cf5606a3d2bcbef058e56b20d4.asset/AssetData/华文仿宋.ttf',\n",
       " '/System/Library/Fonts/SFNSDisplayCondensed-Thin.otf',\n",
       " '/Library/Fonts/STIXSizOneSymReg.otf',\n",
       " '/System/Library/Assets/com_apple_MobileAsset_Font3/0412b97ba362b3017d1f5d445681f7912d13823b.asset/AssetData/Osaka.ttf',\n",
       " '/Library/Fonts/Kokonor.ttf',\n",
       " '/System/Library/Fonts/SFCompactDisplay-Semibold.otf',\n",
       " '/Library/Fonts/Times New Roman.ttf',\n",
       " '/System/Library/Assets/com_apple_MobileAsset_Font3/db496b58d56aeea50088a408cde9c0f44c515b6d.asset/AssetData/Pilgiche.ttf',\n",
       " '/System/Library/Assets/com_apple_MobileAsset_Font3/e5ed3ed82efe751f261bc8044696d1b867aeb60d.asset/AssetData/Yu Gothic Bold.otf',\n",
       " '/Library/Fonts/Comic Sans MS Bold.ttf',\n",
       " '/System/Library/Fonts/SFCompactText-Heavy.otf',\n",
       " '/Library/Fonts/Hoefler Text Ornaments.ttf',\n",
       " '/System/Library/Assets/com_apple_MobileAsset_Font3/85c1c77a7c430b02315e74dec55f9a7f004f556b.asset/AssetData/华文细黑.ttf',\n",
       " '/System/Library/Fonts/SFCompactDisplay-Medium.otf',\n",
       " '/System/Library/Fonts/SFCompactText-SemiboldItalic.otf',\n",
       " '/Library/Fonts/Arial Narrow Italic.ttf',\n",
       " '/System/Library/Assets/com_apple_MobileAsset_Font3/3464d468aaf3415bded5c10f7ae71b0252ee389b.asset/AssetData/ToppanBunkyuMidashiGothic-ExtraBold.otf',\n",
       " '/Library/Fonts/Wingdings 2.ttf',\n",
       " '/System/Library/Assets/com_apple_MobileAsset_Font3/9e94d14bcb65750041078148a2578df7f07e767f.asset/AssetData/华文黑体.ttf',\n",
       " '/System/Library/Fonts/SFCompactText-Light.otf',\n",
       " '/Library/Fonts/AppleGothic.ttf',\n",
       " '/Library/Fonts/Sathu.ttf',\n",
       " '/Library/Fonts/Bodoni Ornaments.ttf',\n",
       " '/System/Library/Fonts/SFCompactDisplay-Thin.otf',\n",
       " '/System/Library/Fonts/SFCompactText-Regular.otf',\n",
       " '/Library/Fonts/Verdana Italic.ttf',\n",
       " '/Library/Fonts/STIXIntUpReg.otf',\n",
       " '/Library/Fonts/Verdana Bold.ttf',\n",
       " '/Library/Fonts/STIXSizFourSymBol.otf',\n",
       " '/Library/Fonts/Apple Chancery.ttf',\n",
       " '/Library/Fonts/Zapfino.ttf',\n",
       " '/Library/Fonts/STIXGeneralBol.otf',\n",
       " '/Library/Fonts/Courier New Bold.ttf',\n",
       " '/Library/Fonts/Mishafi Gold.ttf',\n",
       " '/Library/Fonts/STIXSizTwoSymReg.otf',\n",
       " '/Library/Fonts/Times New Roman Bold Italic.ttf',\n",
       " '/Library/Fonts/Courier New Italic.ttf',\n",
       " '/Library/Fonts/STIXIntUpDReg.otf',\n",
       " '/Library/Fonts/STIXSizOneSymBol.otf',\n",
       " '/System/Library/Fonts/Apple Braille.ttf',\n",
       " '/System/Library/Fonts/SFNSText.ttf',\n",
       " '/Library/Fonts/STIXIntDBol.otf',\n",
       " '/Library/Fonts/DIN Condensed Bold.ttf',\n",
       " '/System/Library/Fonts/SFNSTextCondensed-Light.otf',\n",
       " '/System/Library/Fonts/SFNSDisplayCondensed-Black.otf',\n",
       " '/Library/Fonts/Bradley Hand Bold.ttf',\n",
       " '/System/Library/Fonts/Apple Symbols.ttf',\n",
       " '/System/Library/Assets/com_apple_MobileAsset_Font3/65244ef0ba8b3d93c2f0fff9fb8adfa64609384d.asset/AssetData/PCmyoungjo.ttf',\n",
       " '/Library/Fonts/Farisi.ttf',\n",
       " '/System/Library/Assets/com_apple_MobileAsset_Font3/17b286c27e608a25350058151e56a27301c9dfe7.asset/AssetData/Hei.ttf',\n",
       " '/Library/Fonts/STIXNonUni.otf',\n",
       " '/System/Library/Fonts/SFCompactRounded-Regular.otf',\n",
       " '/System/Library/Assets/com_apple_MobileAsset_Font3/e70e7ed657653c71e5db9183c2ce20290c64c0be.asset/AssetData/ToppanBunkyuMidashiMincho-ExtraBold.otf',\n",
       " '/Library/Fonts/Skia.ttf',\n",
       " '/Library/Fonts/Andale Mono.ttf',\n",
       " '/Library/Fonts/Arial Narrow Bold Italic.ttf',\n",
       " '/Library/Fonts/Comic Sans MS.ttf',\n",
       " '/Library/Fonts/Georgia.ttf',\n",
       " '/Library/Fonts/Khmer Sangam MN.ttf',\n",
       " '/System/Library/Fonts/ZapfDingbats.ttf',\n",
       " '/System/Library/Fonts/SFCompactRounded-Thin.otf',\n",
       " '/Library/Fonts/STIXIntSmReg.otf',\n",
       " '/System/Library/Fonts/SFCompactDisplay-Black.otf',\n",
       " '/System/Library/Fonts/SFCompactText-BoldItalic.otf',\n",
       " '/Library/Fonts/Lao Sangam MN.ttf',\n",
       " '/System/Library/Fonts/SFCompactText-Bold.otf',\n",
       " '/Library/Fonts/Wingdings 3.ttf',\n",
       " '/Library/Fonts/STIXIntDReg.otf',\n",
       " '/Library/Fonts/AppleMyungjo.ttf',\n",
       " '/System/Library/Fonts/SFCompactDisplay-Bold.otf',\n",
       " '/Library/Fonts/BigCaslon.ttf',\n",
       " '/Library/Fonts/Arial Bold Italic.ttf',\n",
       " '/Library/Fonts/STIXVarBol.otf',\n",
       " '/System/Library/Fonts/SFCompactText-HeavyItalic.otf',\n",
       " '/Library/Fonts/Georgia Italic.ttf',\n",
       " '/Library/Fonts/Tahoma Bold.ttf',\n",
       " '/System/Library/Assets/com_apple_MobileAsset_Font3/1f24432ba1a0e8c8507719302610b05c7f5e1b95.asset/AssetData/LingWaiTC-Medium.otf',\n",
       " '/System/Library/Fonts/SFNSDisplayCondensed-Regular.otf',\n",
       " '/System/Library/Assets/com_apple_MobileAsset_Font3/797c71b617f3b45273aa2e9b89eb3cee6c2b69d7.asset/AssetData/Apple LiGothic Medium.ttf',\n",
       " '/Library/Fonts/Courier New Bold Italic.ttf',\n",
       " '/System/Library/Fonts/SFCompactDisplay-Ultralight.otf',\n",
       " '/System/Library/Fonts/SFNSDisplayCondensed-Semibold.otf',\n",
       " '/System/Library/Assets/com_apple_MobileAsset_Font3/264bb88366e4d8eb5b8c9e7ebe17434d85fbd56c.asset/AssetData/WeibeiTC-Bold.otf',\n",
       " '/Library/Fonts/Arial Black.ttf',\n",
       " '/System/Library/Fonts/SFNSTextItalic.ttf',\n",
       " '/System/Library/Fonts/SFNSDisplay.ttf',\n",
       " '/Library/Fonts/Trebuchet MS Italic.ttf',\n",
       " '/System/Library/Assets/com_apple_MobileAsset_Font3/6da938c9f7fa36cae9ee066f7d75195c222fec07.asset/AssetData/WawaSC-Regular.otf',\n",
       " '/Library/Fonts/Diwan Thuluth.ttf',\n",
       " '/Library/Fonts/Times New Roman Bold.ttf',\n",
       " '/Library/Fonts/STIXSizThreeSymReg.otf',\n",
       " '/Library/Fonts/Brush Script.ttf',\n",
       " '/System/Library/Fonts/SFNSTextCondensed-Semibold.otf',\n",
       " '/Library/Fonts/Verdana.ttf',\n",
       " '/Library/Fonts/STIXNonUniIta.otf',\n",
       " '/Library/Fonts/Arial Rounded Bold.ttf',\n",
       " '/Library/Fonts/Herculanum.ttf',\n",
       " '/Library/Fonts/STIXIntUpBol.otf',\n",
       " '/System/Library/Assets/com_apple_MobileAsset_Font3/f30406e59433110c0729335b11a8210e8c63ce6d.asset/AssetData/Yu Gothic Medium.otf',\n",
       " '/System/Library/Fonts/SFCompactText-MediumItalic.otf']"
      ]
     },
     "execution_count": 5,
     "metadata": {},
     "output_type": "execute_result"
    }
   ],
   "source": [
    "import matplotlib.font_manager as fm\n",
    "fm.findSystemFonts()"
   ]
  },
  {
   "cell_type": "markdown",
   "metadata": {
    "collapsed": true
   },
   "source": [
    "日本語フォントを選択"
   ]
  },
  {
   "cell_type": "code",
   "execution_count": 6,
   "metadata": {
    "collapsed": true
   },
   "outputs": [],
   "source": [
    "plt.rcParams['font.family'] = 'AppleGothic'"
   ]
  },
  {
   "cell_type": "markdown",
   "metadata": {},
   "source": [
    "のび太とドラえもんの変態行為の割合比較"
   ]
  },
  {
   "cell_type": "code",
   "execution_count": 7,
   "metadata": {},
   "outputs": [
    {
     "data": {
      "image/png": "[encoded data removed]",
      "text/plain": [
       "<matplotlib.figure.Figure at 0x11c8202e8>"
      ]
     },
     "metadata": {},
     "output_type": "display_data"
    }
   ],
   "source": [
    "nobi = data[\"のび太\"].sum()\n",
    "dora = data[\"ドラえもん\"].sum()\n",
    "x = np.array([nobi, dora])\n",
    "label = [\"のび太\", \"ドラえもん\"]\n",
    "plt.pie(x, labels=label, counterclock=False, startangle=90, autopct=\"%1.1f%%\")\n",
    "plt.axis('equal')\n",
    "plt.show()"
   ]
  },
  {
   "cell_type": "markdown",
   "metadata": {},
   "source": [
    "変態行為の割合"
   ]
  },
  {
   "cell_type": "code",
   "execution_count": 8,
   "metadata": {},
   "outputs": [
    {
     "data": {
      "image/png": "[encoded data removed]",
      "text/plain": [
       "<matplotlib.figure.Figure at 0x11c7d8940>"
      ]
     },
     "metadata": {},
     "output_type": "display_data"
    }
   ],
   "source": [
    "bath_in = data[\"行為\"].str.contains(\"お風呂侵入\", na=False).sum()\n",
    "bath_see = data[\"行為\"].str.contains(\"お風呂覗き見\", na=False).sum()\n",
    "shikan = data[\"行為\"].str.contains(\"視姦\", na=False).sum()\n",
    "nuginugi = data[\"行為\"].str.contains(\"衣服を脱がせる\", na=False).sum()\n",
    "tousatsu = data[\"行為\"].str.contains(\"盗撮\", na=False).sum()\n",
    "roshutsu = data[\"行為\"].str.contains(\"露出行為\", na=False).sum()\n",
    "x = np.array([bath_in, bath_see, shikan, nuginugi, tousatsu, roshutsu])\n",
    "label = [\"おふろしんにゅう\", \"おふろのぞきみ\", \"しかん\", \"きょうせいだつい\", \"とうさつ\", \"ろしゅつこうい\"]\n",
    "plt.pie(x, labels=label, counterclock=False, startangle=90, autopct=\"%1.1f%%\")\n",
    "plt.axis('equal')\n",
    "plt.show()"
   ]
  },
  {
   "cell_type": "markdown",
   "metadata": {},
   "source": [
    "使用した秘密道具"
   ]
  },
  {
   "cell_type": "code",
   "execution_count": 9,
   "metadata": {},
   "outputs": [
    {
     "data": {
      "image/png": "[encoded data removed]",
      "text/plain": [
       "<matplotlib.figure.Figure at 0x11c7dd358>"
      ]
     },
     "metadata": {},
     "output_type": "display_data"
    }
   ],
   "source": [
    "dogu_all = data[\"使用道具\"].str.contains(\"\", na=False).sum()\n",
    "dokodemodoa = data[\"使用道具\"].str.contains(\"どこでもドア\", na=False).sum()\n",
    "sensuikan = data[\"使用道具\"].str.contains(\"潜水艦\", na=False).sum()\n",
    "etc = dogu_all - dokodemodoa - sensuikan\n",
    "x = np.array([dokodemodoa, sensuikan, etc])\n",
    "label = [\"どこでもドア\", \"せんすいかん\", \"そのた\"]\n",
    "plt.pie(x, labels=label, counterclock=False, startangle=90, autopct=\"%1.1f%%\")\n",
    "plt.axis('equal')\n",
    "plt.show()"
   ]
  }
 ],
 "metadata": {
  "kernelspec": {
   "display_name": "Python 3",
   "language": "python",
   "name": "python3"
  },
  "language_info": {
   "codemirror_mode": {
    "name": "ipython",
    "version": 3
   },
   "file_extension": ".py",
   "mimetype": "text/x-python",
   "name": "python",
   "nbconvert_exporter": "python",
   "pygments_lexer": "ipython3",
   "version": "3.6.1"
  }
 },
 "nbformat": 4,
 "nbformat_minor": 2
}
